{
 "cells": [
  {
   "cell_type": "markdown",
   "metadata": {},
   "source": [
    "## Predicting survival of patients with heart failure\n",
    "\n",
    "#### *Drew Solomon*"
   ]
  },
  {
   "cell_type": "markdown",
   "metadata": {},
   "source": [
    "### Introduction\n",
    "##### The Problem\n",
    "\n",
    "Cardiovascular diseases (CVDs) are the number 1 cause of death globally. In 2016, an estimated 17.9 million people died of CVDs, representing 31% of all global deaths (WHO, 2016). In the US, 1 in 4 deaths are due to heart disease (CDC, 2020). Thus, CVDs represent a major public health burden. These disorders of the heart and blood vessels include heart attacks, strokes, and heart failure, as well as other conditions. Within CVDs, heart failure is rising in prevalence globally, affecting an estimated 26 million people(Savarese & Lund, 2017). Specifically, heart failure refers to when the heart cannot pump enough blood to the body, and is associated with diabetes, high blood pressure, and other heart diseases. While predicting heart failure is common in medicine, clinicians' predictions of heart failure-related events have limited accuracy (Buchan et al., 2019). Thus, accurately predicting the survival of patients with heart failure using available medical information is an important machine learning problem. Identifying key features related to patients' survival and building classification models to accurately predict survival may ultimately assist clinicians in extending and improving the lives of people with heart failure.\n",
    "\n",
    "As such, I want to predict the survival of patients with heart failure using medical record information. First, I want to identify which clinical, body, and lifestyle features are important for predicting patients' survival. Then, I want to build and evaluate a machine learning model to accurately predict heart failure patients' survival. I aim to do so using a dataset of medical records from 299 heart failure patients a hospital in Pakistan, collected from April-December 2015 (described below).\n",
    "\n",
    "##### Target variable \n",
    "The target variable is the death event, which measures if the patient died before the end of the follow up period (130 days on average). It is a binary variable, where `1` represents a patients' death, and `0` their survival. Regarding the balance, 203 patients (67.89%) survived and 96 patients (32.11%) died. \n",
    "\n",
    "##### Classification problem\n",
    "Since the target variable is a categorical one with two classes (survived or not), the problem here is a binary classification problem. In particular, given the dataset, this classification problem involves predicting heart failure patient survival within a time period of around 130 days, for patients who have already suffered heart failures and rank highly on the NYHA progression score.\n",
    "\n",
    "##### Why it matters\n",
    "This problem is both important and interesting. Solving this problem could help doctors predict heart failure patients' survival with greater accuracy. Further, feature selection may simplify medical decision-making by identifying key risk factors. For example, if a few features can accurately predict survival, then doctors may still predict patients' survival with incomplete medical records (e.g. missing tests). Importantly, an accurate predictive model may help doctors triage patients, particularly given their limited time and resources. In addition, an accurate prediction of survival may help support patients and their families in planning and coping with loss. Broadly, using medical data to uncover relationships between risk factors towards predicting heart failure-related events may potentially improve the lives of people risk of heart failure.\n",
    "\n",
    "##### Dataset description\n",
    "\n",
    "This dataset contains the (anonymous) medical records of 299 heart failure patients admitted to the Institute of Cardiology and Allied hospital Faisalabad-Pakistan during April-December (2015). The dataset has 299 data points (for each individual patient) and 13 features (including the target variable). The patients consisted of 105 women and 194 men,ranging between 40 and 95 years old. All of patients had previous heart failures and ranked in top 2 of 4 classes of the NYHA score on heart failure progression (which classifies patients based on physical activity limitations (AHA, 2017).\n",
    "\n",
    "The dataset contains 13 features from electronic health records. The categorical features (all binary) are: anaemia, high blood pressure, diabetes, sex, smoking, and death event (if the patient during before the end of the follow-up period). The continuous features are: age, creatinine phosphokinase (level of the CPK enzyme in the blood - an indicator of muscle tissue damage), ejection fraction (% of blood leaving the heart at each contraction), platelets, serum creatinine (creatinine in the blood - indicator of kidney dysfunction), serum sodium (sodium in the blood - possible indicator of heart failure if very low), and time (days between hospital visit and follow-up).\n",
    "\n",
    "This dataset was obtained via UCI. In its original publication, Dr. Ahmad and his colleagues employed traditional biostatistics time-dependent models (such as Cox regression and Kaplan–Meier survival plots) to identify risk factors and model mortality of patients with heart failure. Ahmad et al. (2017) found that age, renal dysfunction, blood pressure, ejection fraction and anemia are significant risk factors for mortality among heart failure patients.\n",
    "\n",
    "Chicco and Jurman (2020) extended this work by comparing biostatistics approaches with machine learning ones, in identify key features and predicting patients' survival. Within both approaches, the authors found that serum creatinine and the ejection fraction were the two most important features in predicting patients' survival. Moreover, Chicco and Jurman (2020) found that these two features were not only sufficient for predicting heart failure patient survival from medical records, but yielded more accurate predictions than the original dataset. While the two features are well-known drivers of heart failure, Chicco et al. (2020) were successful in predicting heart failure patients' survival using only two features, which has useful practical implications."
   ]
  },
  {
   "cell_type": "code",
   "execution_count": 42,
   "metadata": {},
   "outputs": [
    {
     "name": "stdout",
     "output_type": "stream",
     "text": [
      "shape: (299, 13)\n"
     ]
    }
   ],
   "source": [
    "import pandas as pd\n",
    "import numpy as np\n",
    "import matplotlib\n",
    "from matplotlib import pylab as plt\n",
    "import matplotlib.patches as mpatches\n",
    "from IPython.display import Image\n",
    "\n",
    "# load the heart failure clinical records dataset\n",
    "df = pd.read_csv('../data/heart_failure_clinical_records_dataset.csv')\n",
    "print(\"shape:\",df.shape)"
   ]
  },
  {
   "cell_type": "code",
   "execution_count": 43,
   "metadata": {},
   "outputs": [],
   "source": [
    "# rename column names\n",
    "df.columns=['age', 'anaemia', 'creatinine phosphokinase', 'diabetes',\n",
    "       'ejection fraction', 'high blood pressure', 'platelets',\n",
    "       'serum creatinine', 'serum sodium', 'sex', 'smoking', 'time',\n",
    "       'death event']\n",
    "columns = df.columns"
   ]
  },
  {
   "cell_type": "markdown",
   "metadata": {},
   "source": [
    "### Exploratory Data Analysis "
   ]
  },
  {
   "cell_type": "code",
   "execution_count": 44,
   "metadata": {},
   "outputs": [
    {
     "data": {
      "text/html": [
       "<div>\n",
       "<style scoped>\n",
       "    .dataframe tbody tr th:only-of-type {\n",
       "        vertical-align: middle;\n",
       "    }\n",
       "\n",
       "    .dataframe tbody tr th {\n",
       "        vertical-align: top;\n",
       "    }\n",
       "\n",
       "    .dataframe thead th {\n",
       "        text-align: right;\n",
       "    }\n",
       "</style>\n",
       "<table border=\"1\" class=\"dataframe\">\n",
       "  <thead>\n",
       "    <tr style=\"text-align: right;\">\n",
       "      <th></th>\n",
       "      <th>age</th>\n",
       "      <th>anaemia</th>\n",
       "      <th>creatinine phosphokinase</th>\n",
       "      <th>diabetes</th>\n",
       "      <th>ejection fraction</th>\n",
       "      <th>high blood pressure</th>\n",
       "      <th>platelets</th>\n",
       "      <th>serum creatinine</th>\n",
       "      <th>serum sodium</th>\n",
       "      <th>sex</th>\n",
       "      <th>smoking</th>\n",
       "      <th>time</th>\n",
       "      <th>death event</th>\n",
       "    </tr>\n",
       "  </thead>\n",
       "  <tbody>\n",
       "    <tr>\n",
       "      <th>0</th>\n",
       "      <td>75.0</td>\n",
       "      <td>0</td>\n",
       "      <td>582</td>\n",
       "      <td>0</td>\n",
       "      <td>20</td>\n",
       "      <td>1</td>\n",
       "      <td>265000.00</td>\n",
       "      <td>1.9</td>\n",
       "      <td>130</td>\n",
       "      <td>1</td>\n",
       "      <td>0</td>\n",
       "      <td>4</td>\n",
       "      <td>1</td>\n",
       "    </tr>\n",
       "    <tr>\n",
       "      <th>1</th>\n",
       "      <td>55.0</td>\n",
       "      <td>0</td>\n",
       "      <td>7861</td>\n",
       "      <td>0</td>\n",
       "      <td>38</td>\n",
       "      <td>0</td>\n",
       "      <td>263358.03</td>\n",
       "      <td>1.1</td>\n",
       "      <td>136</td>\n",
       "      <td>1</td>\n",
       "      <td>0</td>\n",
       "      <td>6</td>\n",
       "      <td>1</td>\n",
       "    </tr>\n",
       "    <tr>\n",
       "      <th>2</th>\n",
       "      <td>65.0</td>\n",
       "      <td>0</td>\n",
       "      <td>146</td>\n",
       "      <td>0</td>\n",
       "      <td>20</td>\n",
       "      <td>0</td>\n",
       "      <td>162000.00</td>\n",
       "      <td>1.3</td>\n",
       "      <td>129</td>\n",
       "      <td>1</td>\n",
       "      <td>1</td>\n",
       "      <td>7</td>\n",
       "      <td>1</td>\n",
       "    </tr>\n",
       "    <tr>\n",
       "      <th>3</th>\n",
       "      <td>50.0</td>\n",
       "      <td>1</td>\n",
       "      <td>111</td>\n",
       "      <td>0</td>\n",
       "      <td>20</td>\n",
       "      <td>0</td>\n",
       "      <td>210000.00</td>\n",
       "      <td>1.9</td>\n",
       "      <td>137</td>\n",
       "      <td>1</td>\n",
       "      <td>0</td>\n",
       "      <td>7</td>\n",
       "      <td>1</td>\n",
       "    </tr>\n",
       "    <tr>\n",
       "      <th>4</th>\n",
       "      <td>65.0</td>\n",
       "      <td>1</td>\n",
       "      <td>160</td>\n",
       "      <td>1</td>\n",
       "      <td>20</td>\n",
       "      <td>0</td>\n",
       "      <td>327000.00</td>\n",
       "      <td>2.7</td>\n",
       "      <td>116</td>\n",
       "      <td>0</td>\n",
       "      <td>0</td>\n",
       "      <td>8</td>\n",
       "      <td>1</td>\n",
       "    </tr>\n",
       "  </tbody>\n",
       "</table>\n",
       "</div>"
      ],
      "text/plain": [
       "    age  anaemia  creatinine phosphokinase  diabetes  ejection fraction  \\\n",
       "0  75.0        0                       582         0                 20   \n",
       "1  55.0        0                      7861         0                 38   \n",
       "2  65.0        0                       146         0                 20   \n",
       "3  50.0        1                       111         0                 20   \n",
       "4  65.0        1                       160         1                 20   \n",
       "\n",
       "   high blood pressure  platelets  serum creatinine  serum sodium  sex  \\\n",
       "0                    1  265000.00               1.9           130    1   \n",
       "1                    0  263358.03               1.1           136    1   \n",
       "2                    0  162000.00               1.3           129    1   \n",
       "3                    0  210000.00               1.9           137    1   \n",
       "4                    0  327000.00               2.7           116    0   \n",
       "\n",
       "   smoking  time  death event  \n",
       "0        0     4            1  \n",
       "1        0     6            1  \n",
       "2        1     7            1  \n",
       "3        0     7            1  \n",
       "4        0     8            1  "
      ]
     },
     "execution_count": 44,
     "metadata": {},
     "output_type": "execute_result"
    }
   ],
   "source": [
    "df.head()"
   ]
  },
  {
   "cell_type": "code",
   "execution_count": 45,
   "metadata": {},
   "outputs": [
    {
     "data": {
      "text/plain": [
       "age                         0\n",
       "anaemia                     0\n",
       "creatinine phosphokinase    0\n",
       "diabetes                    0\n",
       "ejection fraction           0\n",
       "high blood pressure         0\n",
       "platelets                   0\n",
       "serum creatinine            0\n",
       "serum sodium                0\n",
       "sex                         0\n",
       "smoking                     0\n",
       "time                        0\n",
       "death event                 0\n",
       "dtype: int64"
      ]
     },
     "execution_count": 45,
     "metadata": {},
     "output_type": "execute_result"
    }
   ],
   "source": [
    "# count missing values\n",
    "df.isnull().sum(axis=0)"
   ]
  },
  {
   "cell_type": "markdown",
   "metadata": {},
   "source": [
    "### Selected Figures:"
   ]
  },
  {
   "cell_type": "markdown",
   "metadata": {},
   "source": [
    "The first figure is a scattermatrix of patients' continuous features: age, the time of their follow-up visit, and their clinical information. These scatterplots are grouped by the patients' survival status, to visualize the patterns in the dataset by the target variable. The most visible pattern is that patients who died had a shorter time until follow-up, by default. Beyond the time column, there is a distinct grouping of target classes within the ejection fraction and serum creatinine scatterplot, whereby patients with a higher ejection fraction and lower serum creatinine have a higher frequency of survival."
   ]
  },
  {
   "cell_type": "markdown",
   "metadata": {},
   "source": [
    "![title](../figures/fig1_scattermatrix_by_survival.png)"
   ]
  },
  {
   "cell_type": "markdown",
   "metadata": {},
   "source": [
    "The second figure is a stacked bar plot of patients' survival by their sex. The rate of survival between the sexes is remarkably similar, at 68.04% for female patients, and 67.62% for male patients."
   ]
  },
  {
   "cell_type": "markdown",
   "metadata": {},
   "source": [
    "![title](../figures//fig2_stacked_bar_by_sex_survival.png)"
   ]
  },
  {
   "cell_type": "markdown",
   "metadata": {},
   "source": [
    "The third figure is a scatter plot of ejection fraction and serum creatinine. Ejection fraction (EF) represents the percentage of blood the left ventricle pumps out with each contraction. Serum creatinine is a waste product generated when a muscle breaks down, and may indicate kidney dysfunction at high levels. This plot illustrates that patients who did not survived typically had low EF and higher serum creatinine, whereas patients who survived (within the follow-up window) had a higher ejection fraction and lower serum creatinine. The separation between these groups suggests that these features may be important for classifying patients by survival."
   ]
  },
  {
   "cell_type": "markdown",
   "metadata": {},
   "source": [
    "![title](../figures/fig3_scatter_serum_creatinine_by_EF.png)"
   ]
  },
  {
   "cell_type": "markdown",
   "metadata": {},
   "source": [
    "Focusing on the role of ejection fraction, the fourth figure is a violin plot illlustrating the distribution of patients' ejection fraction measures by survival status. There is a clear difference between patients who survived, with a higher EF with a mode around 38%, and patients who did not, with a mode around 23%. However, some patients who died had a high EF, indicating the possibility of heart failure with preserved ejection fraction (HFpEF), where the ventricle fails to relax (Chicco, & Jurman, 2020)."
   ]
  },
  {
   "cell_type": "markdown",
   "metadata": {},
   "source": [
    "![title](../figures/fig4_violin_EF_by_survival.png)"
   ]
  },
  {
   "cell_type": "markdown",
   "metadata": {},
   "source": [
    "## Data preprocessing \n",
    "\n",
    "#### Split proportion\n",
    "\n",
    "Given the small dataset size, I split the data in 60% training, 20% validation, and 20% test set, in order to train, tune, and test the classification model on sufficient data respectively. Importantly, the model must accurately predict new patients' survival, so the (unseen) test set must be sufficiently large and varied.\n",
    "\n",
    "#### IID data\n",
    "\n",
    "The dataset is IID (independent and identically distributed) because each data point represents a unique patient, without repeated visits. Each observation is independent of the others. The data does not have a group structure nor is it generated by a time-dependent process.\n",
    "\n",
    "#### Split type and justification\n",
    "\n",
    "Given the IID structure, categorical target variable, small size ($n=299$) of the dataset, and the smaller proportion of positive target cases (death event = 1), I split the dataset using a stratified KFold split. While the data is not heavily imbalanced (~32% dead, 68% survived), the small number of observations results in large variation (on the order of 10%) in balance in the training, validation, and test sets using a regular KFold split (with shuffling). Instead, the stratified KFold split - which splits the data into folds that preserve the proportion of samples from each class - results in variation in balance on order of only 1%. Thus, this split ensures that the balance of the target class - patient death or survival - is preserved across the training, validation, and test sets despite the small sample size.\n",
    "\n",
    "\n",
    "#### Splitting the dataset based on the classification goal \n",
    "\n",
    "Since I am predicting heart failure patients' survival from medical record information, I discarded the 'time' feature, which indicates the time until a patients' follow-up (whose procedures were not specified in the original dataset or paper), since this information is not available when predicting new patients' survival. Moreover, the stratified KFold split (described above) ensures that each training/validation/test test has a consistent balance of heart failure patients who survived and patients who did not. Thus, the machine learning classification model will be fit, tuned, and tested on a consistent ratio of patient classes towards more accurate survival prediction. For example, this avoids the risk of a predictive model being fit largely on data from patients who survived, which could occur in a small dataset.\n",
    "\n",
    "#### Preprocessors by feature \n",
    "\n",
    "For the continuous variables (age, creatinine phosphokinase, ejection fraction, platelets, serum creatinine, and serum sodium), I standardized them by applying the StandardScaler. I chose the StandardScaler to prepare these features for feature ranking as well as for machine learning estimators which require features to have comparable scales, such as for linear or logistic regression. Moreover, many of the continuous features follow a tail distribution or have wide ranges (especially for the blood test information), so standardizing was more appropriate than scaling by the minimum and maximum values.\n",
    "\n",
    "In this dataset, the categorical features (anaemia, diabetes, high blood pressure, sex, and smoking) are already in binary numerical format (`0` if false, `1` if true). Therefore, they do not need transforming. Thus, I specified in my preprocessor to pass over these columns. Likewise, the target variable 'death event' has unique values of `0` and `1`, and thus is ready for classification.\n",
    "\n",
    "####  Preprocessed data features\n",
    "\n",
    "After preprocessing, there are 11 features in the preprocessed data. The 'time' feature was discarded, and the continuous features were standardized. The initial training, validation, and test sets had shape: (180, 12), (59, 12), and (60, 12) respectively. After preprocessing, the transformed training, validation, and tests sets had shape: (180, 11), (59, 11), and (60, 11) respectively. Thus, one feature was dropped, and no columns were added over the standardized. The sets are split 60/20/20 and are consistently balanced for the target variable at 68% survived, 32% died with a variance on the order of 1%."
   ]
  },
  {
   "cell_type": "markdown",
   "metadata": {},
   "source": [
    "### References \n"
   ]
  },
  {
   "cell_type": "markdown",
   "metadata": {},
   "source": [
    "Ahmad, T., Munir, A., Bhatti, S. H., Aftab, M., & Raza, M. A. (2017). Survival analysis of heart failure patients: A case study. PloS one, 12(7), e0181001.\n",
    "\n",
    "American Heart Association. Classes of Heart Failure. www.heart.org/en/health-topics/heart-failure/what-is-heart-failure/classes-of-heart-failure.\n",
    "\n",
    "Buchan, T. A., Ross, H. J., McDonald, M., Billia, F., Delgado, D., Posada, J. D., ... & Alba, A. C. (2019). Physician prediction versus model predicted prognosis in ambulatory patients with heart failure. The Journal of Heart and Lung Transplantation, 38(4), S381.\n",
    "\n",
    "World Health Organization. Cardiovascular Diseases (CVDs). www.who.int/news-room/fact-sheets/detail/cardiovascular-diseases-(cvds).\n",
    "\n",
    "Chicco, D., & Jurman, G. (2020). Machine learning can predict survival of patients with heart failure from serum creatinine and ejection fraction alone. BMC medical informatics and decision making, 20(1), 16.\n",
    "\n",
    "\n",
    "Heart Disease Facts. 8 Sept. 2020, www.cdc.gov/heartdisease/facts.htm.\n",
    "\n",
    "Raphael, C., Briscoe, C., Davies, J., Whinnett, Z. I., Manisty, C., Sutton, R., ... & Francis, D. P. (2007). Limitations of the New York Heart Association functional classification system and self-reported walking distances in chronic heart failure. Heart, 93(4), 476-482.\n",
    "\n",
    "Savarese, G., & Lund, L. H. (2017). Global public health burden of heart failure. Cardiac failure review, 3(1), 7.\n"
   ]
  },
  {
   "cell_type": "code",
   "execution_count": null,
   "metadata": {},
   "outputs": [],
   "source": []
  }
 ],
 "metadata": {
  "kernelspec": {
   "display_name": "Python 3",
   "language": "python",
   "name": "python3"
  },
  "language_info": {
   "codemirror_mode": {
    "name": "ipython",
    "version": 3
   },
   "file_extension": ".py",
   "mimetype": "text/x-python",
   "name": "python",
   "nbconvert_exporter": "python",
   "pygments_lexer": "ipython3",
   "version": "3.7.6"
  }
 },
 "nbformat": 4,
 "nbformat_minor": 4
}
